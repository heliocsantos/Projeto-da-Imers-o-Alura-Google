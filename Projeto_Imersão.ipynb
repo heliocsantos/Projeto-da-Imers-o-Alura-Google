{
  "nbformat": 4,
  "nbformat_minor": 0,
  "metadata": {
    "colab": {
      "provenance": [],
      "authorship_tag": "ABX9TyPXV1ljhLltGV5L/+CVdycl",
      "include_colab_link": true
    },
    "kernelspec": {
      "name": "python3",
      "display_name": "Python 3"
    },
    "language_info": {
      "name": "python"
    }
  },
  "cells": [
    {
      "cell_type": "markdown",
      "metadata": {
        "id": "view-in-github",
        "colab_type": "text"
      },
      "source": [
        "<a href=\"https://colab.research.google.com/github/heliocsantos/Projeto-da-Imers-o-Alura-Google/blob/main/Projeto_Imers%C3%A3o.ipynb\" target=\"_parent\"><img src=\"https://colab.research.google.com/assets/colab-badge.svg\" alt=\"Open In Colab\"/></a>"
      ]
    },
    {
      "cell_type": "code",
      "execution_count": 6,
      "metadata": {
        "colab": {
          "base_uri": "https://localhost:8080/",
          "height": 104
        },
        "id": "T6jdMj3N8o20",
        "outputId": "cf9836c9-9caf-4265-ac88-00e316ca549d"
      },
      "outputs": [
        {
          "output_type": "stream",
          "name": "stdout",
          "text": [
            "Qual a sua necessidade? casa\n",
            "Recurso encontrado:\n",
            "Nome: Minha Residencia\n",
            "Endereço: Rua das Lobélias, 380, São Paulo\n",
            "Telefone: (11) 99185-7890\n"
          ]
        }
      ],
      "source": [
        "!pip install -q -U google-generativeai\n",
        "\n",
        "# 1. Importar as ferramentas (bibliotecas) que vamos usar\n",
        "import numpy as np # Ferramenta para trabalhar com números\n",
        "import pandas as pd # Ferramenta para organizar dados em tabelas\n",
        "import google.generativeai as genai # Ferramenta de Inteligência Artificial do Google\n",
        "\n",
        "# 2. Coloque aqui a sua chave de API do Google\n",
        "# Você precisa criar uma conta no Google Cloud Platform e ativar a API do Generative AI\n",
        "from google.colab import userdata\n",
        "api_key = userdata.get(\"SECRET_KEY\")\n",
        "\n",
        "genai.configure(api_key=api_key)\n",
        "\n",
        "# 3. Criar o banco de dados de recursos\n",
        "# Imagine que esta é uma tabela, com cada linha representando um recurso\n",
        "dados_recursos = {\n",
        "    \"nome\": [\"Abrigo Acolher\", \"Restaurante Esperança\", \"Hospital Santa Casa\", \"Minha Residencia\"],\n",
        "    \"endereço\": [\"Rua A, 123, Porto Alegre\", \"Rua B, 456, Porto Alegre\", \"Rua C, 789, Porto Alegre\", \"Rua das Lobélias, 380, São Paulo\"],\n",
        "    \"tipo\": [\"abrigo\", \"refeição\", \"saúde\", \"casa\"],\n",
        "    \"horario\": [\"Aberto 24h\", \"Almoço: 12h-14h\", \"Atendimento 24h\", \"Atendimento 24h\"],\n",
        "    \"telefone\": [\"(51) 1234-5678\", \"(51) 9876-5432\", \"(51) 3456-7890\", \"(11) 99185-7890\"]\n",
        "}\n",
        "\n",
        "# Transformamos os dados em um DataFrame (tabela organizada)\n",
        "recursos = pd.DataFrame(dados_recursos)\n",
        "\n",
        "# 4. Função para transformar texto em números (embeddings)\n",
        "# A IA precisa transformar as palavras em números para entender o significado\n",
        "model = \"models/embedding-001\" # Modelo de embedding do Google\n",
        "def gerar_embeddings(texto):\n",
        "  return genai.embed_content(model=model, content=texto, task_type=\"RETRIEVAL_DOCUMENT\")[\"embedding\"]\n",
        "\n",
        "# 5. Gerar embeddings para cada recurso no banco de dados\n",
        "recursos[\"embeddings\"] = recursos[\"tipo\"].apply(gerar_embeddings)\n",
        "\n",
        "# 6. Função para encontrar recursos similares à necessidade do usuário\n",
        "def encontrar_recursos(necessidade, recursos, model):\n",
        "  # Transforma a necessidade do usuário em números (embedding)\n",
        "  embedding_da_necessidade = genai.embed_content(model=model, content=necessidade, task_type=\"RETRIEVAL_QUERY\")[\"embedding\"]\n",
        "\n",
        "  # Calcula a similaridade entre a necessidade e cada recurso\n",
        "  similaridades = np.dot(np.stack(recursos[\"embeddings\"]), embedding_da_necessidade)\n",
        "\n",
        "  # Encontra o recurso mais similar\n",
        "  indice_do_recurso = np.argmax(similaridades)\n",
        "  return recursos.iloc[indice_do_recurso]\n",
        "\n",
        "# 7. Interface de texto (exemplo)\n",
        "necessidade_usuario = input(\"Qual a sua necessidade? \") # Pergunta ao usuário\n",
        "recurso_encontrado = encontrar_recursos(necessidade_usuario, recursos, model) # Busca o recurso\n",
        "\n",
        "# 8. Mostrar o resultado para o usuário\n",
        "print(\"Recurso encontrado:\")\n",
        "print(\"Nome:\", recurso_encontrado[\"nome\"])\n",
        "print(\"Endereço:\", recurso_encontrado[\"endereço\"])\n",
        "print(\"Telefone:\", recurso_encontrado[\"telefone\"])"
      ]
    }
  ]
}